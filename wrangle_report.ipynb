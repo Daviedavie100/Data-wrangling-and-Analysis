{
 "cells": [
  {
   "cell_type": "markdown",
   "metadata": {},
   "source": [
    "## Reporting: wragle_report\n",
    "\n",
    "David Owino\n",
    "\n",
    "**2022**\n",
    "\n",
    "This report briefly describes wrangling efforts and procedures done"
   ]
  },
  {
   "cell_type": "markdown",
   "metadata": {},
   "source": [
    "### Introduction\n",
    "\n",
    "Data comes from variety of sources and in different formats. The qualitative and quantitative nature of data also varies. Whereas the quantity of data maybe insignificant, good quality data is vital for making analysis and visualizations for any organizational decision. \n",
    "\n",
    "This project deals with data wrangling using python libraries. Data wrangling is the process of gathering real data, assessing its quality and tidiness, and then cleaning it. In every step of wrangling, detailed documentations have been made in this project.\n",
    "\n",
    "The data set for this project is tweet archive of Twitter user @dog_rates (WeRateDogs). According to Udacity, WeRateDogs is a Twitter account that rates people's dogs with a humorous comment about the dog. The ratings have Waterdogs constant denominator of 10 but have varying unique numerator. For instance, 12/10, 13/10, etc. WeRateDogs has over 4 million followers. However, this tweet archive data only contains basic tweet data on tweet ID, timestamp, text among others for over 5000 tweets. In addition, more data must be gathered to meet the objective of the project"
   ]
  },
  {
   "cell_type": "markdown",
   "metadata": {},
   "source": [
    "### Objectives of the project\n",
    "\n",
    "The project’s objectives include:\n",
    "\n",
    "a) Gather, assess and clean the data provided from three different sources\n",
    "\n",
    "b) Store, analyze and visualize the tidy data and,\n",
    "\n",
    "c) Write report about wrangling efforts and procedures, and data analysis and visualizations"
   ]
  },
  {
   "cell_type": "markdown",
   "metadata": {},
   "source": [
    "## Gathering Data\n",
    "\n",
    "There were three different types of data in this project. First, is twitter_archive_enhanced.csv. According to Udacity, WeRateDogs downloaded their Twitter archive and sent it to Udacity via email exclusively for you to use in this project. This data is manually downloaded via the link provided by Udacity and then uploaded in the working directory.\n",
    "\n",
    "The second data is image_predictions.tsv. This dataset is also known as WeRateDogs tweet image predictions and is hosted on Udacity’s servers. It is downloaded programmatically using requests library.\n",
    "\n",
    "Lastly, is tweet_json.txt. There were two methods of getting this additional data. Either, through Twitter API and the python tweepy library or direct download of the json.txt file provided in the Udacity classroom. I downloaded the tweet_json.txt programmatically using requests library"
   ]
  },
  {
   "cell_type": "markdown",
   "metadata": {},
   "source": [
    "## Assessing the data\n",
    "\n",
    "Both visual and progmmatic methods were used to assess quality and tidiness issues.\n",
    "\n",
    "**Quality issues**: Issues related to the data content (dirty data). We check for four quality dimensions, completeness, validity, accuracy and consistency.\n",
    "\n",
    "**Tidiness issues** : Issues related to the data structure (messy data). We check whether or not each variable forms a column, each observation forms a row or each type of observational unit forms a table\n",
    "\n",
    "Through visual Assessment, where the data sets were first converted to csv and then opened in an excel workbook, I was able to quickly identify issues as non-descriptive column headers, extraneous columns, missing values (NaN, none), inconsistent rating denominator as well as tidiness issues for dog stage (doggo,\tfloofer, pupper,puppo) in the three Datasets.\n",
    "\n",
    "In programmatic Assessment, I loaded the data sets into pandas data frame in Jupyter notebook and I identified most of the quality issues including incorrect data types, invalid names under name column (a, an, none) and duplicate values existing in the three datasets. The python methods used comprise .info(), .head(), .describe(), .dtypes, .nunique(), .value_counts() and .columns among others. For instance, inaccurate values in twitter_archive data for name column was one of the quality issues identified while the four columns for doggo, floofer, pupper, and puppo were considered dog stage, one variable as a tidiness issue."
   ]
  },
  {
   "cell_type": "markdown",
   "metadata": {},
   "source": [
    "## Cleaning the Data\n",
    "\n",
    "The aim here is to improve quality and tidiness of the data based on the assessment made. In cleaning the data, I used pogrammatic data cleaning process, in which every issue identified in the assessment section is first defined followed by coding and and finally testing. However, copies of the original dataset were made before the issues were cleaned. The three data sets had a lot of unique issues, and at times I had to split the data and clean a particular quality issue and then merge them again. Writing a regex pattern helped in indentifying the correct dog_name and dog_stage."
   ]
  },
  {
   "cell_type": "markdown",
   "metadata": {},
   "source": [
    "## Storing the Data\n",
    "\n",
    "After cleaning the data, the merged data was stored as twitter_archive_master.csv file into the working directory"
   ]
  },
  {
   "cell_type": "markdown",
   "metadata": {},
   "source": [
    "## Analyzing the Data\n",
    "\n",
    "Using twitter_archive_master.csv file, three insights were analyzed and visualizations made for each case. One of the insights is that Golden Retriever is the most popular dog breed amongst WeRateDogs’s tweets in terms of the number of image predictions having 139 dogs."
   ]
  }
 ],
 "metadata": {
  "kernelspec": {
   "display_name": "Python 3",
   "language": "python",
   "name": "python3"
  },
  "language_info": {
   "codemirror_mode": {
    "name": "ipython",
    "version": 3
   },
   "file_extension": ".py",
   "mimetype": "text/x-python",
   "name": "python",
   "nbconvert_exporter": "python",
   "pygments_lexer": "ipython3",
   "version": "3.6.3"
  }
 },
 "nbformat": 4,
 "nbformat_minor": 2
}
